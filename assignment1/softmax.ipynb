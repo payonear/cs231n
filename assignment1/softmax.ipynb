{
 "cells": [
  {
   "cell_type": "markdown",
   "metadata": {
    "tags": [
     "pdf-title"
    ]
   },
   "source": [
    "# Softmax exercise\n",
    "\n",
    "*Complete and hand in this completed worksheet (including its outputs and any supporting code outside of the worksheet) with your assignment submission. For more details see the [assignments page](http://vision.stanford.edu/teaching/cs231n/assignments.html) on the course website.*\n",
    "\n",
    "This exercise is analogous to the SVM exercise. You will:\n",
    "\n",
    "- implement a fully-vectorized **loss function** for the Softmax classifier\n",
    "- implement the fully-vectorized expression for its **analytic gradient**\n",
    "- **check your implementation** with numerical gradient\n",
    "- use a validation set to **tune the learning rate and regularization** strength\n",
    "- **optimize** the loss function with **SGD**\n",
    "- **visualize** the final learned weights\n"
   ]
  },
  {
   "cell_type": "code",
   "execution_count": 1,
   "metadata": {
    "tags": [
     "pdf-ignore"
    ]
   },
   "outputs": [],
   "source": [
    "import random\n",
    "import numpy as np\n",
    "from cs231n.data_utils import load_CIFAR10\n",
    "import matplotlib.pyplot as plt\n",
    "\n",
    "%matplotlib inline\n",
    "plt.rcParams['figure.figsize'] = (10.0, 8.0) # set default size of plots\n",
    "plt.rcParams['image.interpolation'] = 'nearest'\n",
    "plt.rcParams['image.cmap'] = 'gray'\n",
    "\n",
    "# for auto-reloading extenrnal modules\n",
    "# see http://stackoverflow.com/questions/1907993/autoreload-of-modules-in-ipython\n",
    "%load_ext autoreload\n",
    "%autoreload 2"
   ]
  },
  {
   "cell_type": "code",
   "execution_count": 2,
   "metadata": {
    "tags": [
     "pdf-ignore"
    ]
   },
   "outputs": [
    {
     "name": "stdout",
     "output_type": "stream",
     "text": [
      "Train data shape:  (49000, 3073)\n",
      "Train labels shape:  (49000,)\n",
      "Validation data shape:  (1000, 3073)\n",
      "Validation labels shape:  (1000,)\n",
      "Test data shape:  (1000, 3073)\n",
      "Test labels shape:  (1000,)\n",
      "dev data shape:  (500, 3073)\n",
      "dev labels shape:  (500,)\n"
     ]
    }
   ],
   "source": [
    "def get_CIFAR10_data(num_training=49000, num_validation=1000, num_test=1000, num_dev=500):\n",
    "    \"\"\"\n",
    "    Load the CIFAR-10 dataset from disk and perform preprocessing to prepare\n",
    "    it for the linear classifier. These are the same steps as we used for the\n",
    "    SVM, but condensed to a single function.  \n",
    "    \"\"\"\n",
    "    # Load the raw CIFAR-10 data\n",
    "    cifar10_dir = 'cs231n/datasets/cifar-10-batches-py'\n",
    "    \n",
    "    # Cleaning up variables to prevent loading data multiple times (which may cause memory issue)\n",
    "    try:\n",
    "        del X_train, y_train\n",
    "        del X_test, y_test\n",
    "        print('Clear previously loaded data.')\n",
    "    except:\n",
    "        pass\n",
    "\n",
    "    X_train, y_train, X_test, y_test = load_CIFAR10(cifar10_dir)\n",
    "    \n",
    "    # subsample the data\n",
    "    mask = list(range(num_training, num_training + num_validation))\n",
    "    X_val = X_train[mask]\n",
    "    y_val = y_train[mask]\n",
    "    mask = list(range(num_training))\n",
    "    X_train = X_train[mask]\n",
    "    y_train = y_train[mask]\n",
    "    mask = list(range(num_test))\n",
    "    X_test = X_test[mask]\n",
    "    y_test = y_test[mask]\n",
    "    mask = np.random.choice(num_training, num_dev, replace=False)\n",
    "    X_dev = X_train[mask]\n",
    "    y_dev = y_train[mask]\n",
    "    \n",
    "    # Preprocessing: reshape the image data into rows\n",
    "    X_train = np.reshape(X_train, (X_train.shape[0], -1))\n",
    "    X_val = np.reshape(X_val, (X_val.shape[0], -1))\n",
    "    X_test = np.reshape(X_test, (X_test.shape[0], -1))\n",
    "    X_dev = np.reshape(X_dev, (X_dev.shape[0], -1))\n",
    "    \n",
    "    # Normalize the data: subtract the mean image\n",
    "    mean_image = np.mean(X_train, axis = 0)\n",
    "    X_train -= mean_image\n",
    "    X_val -= mean_image\n",
    "    X_test -= mean_image\n",
    "    X_dev -= mean_image\n",
    "    \n",
    "    # add bias dimension and transform into columns\n",
    "    X_train = np.hstack([X_train, np.ones((X_train.shape[0], 1))])\n",
    "    X_val = np.hstack([X_val, np.ones((X_val.shape[0], 1))])\n",
    "    X_test = np.hstack([X_test, np.ones((X_test.shape[0], 1))])\n",
    "    X_dev = np.hstack([X_dev, np.ones((X_dev.shape[0], 1))])\n",
    "    \n",
    "    return X_train, y_train, X_val, y_val, X_test, y_test, X_dev, y_dev\n",
    "\n",
    "\n",
    "# Invoke the above function to get our data.\n",
    "X_train, y_train, X_val, y_val, X_test, y_test, X_dev, y_dev = get_CIFAR10_data()\n",
    "print('Train data shape: ', X_train.shape)\n",
    "print('Train labels shape: ', y_train.shape)\n",
    "print('Validation data shape: ', X_val.shape)\n",
    "print('Validation labels shape: ', y_val.shape)\n",
    "print('Test data shape: ', X_test.shape)\n",
    "print('Test labels shape: ', y_test.shape)\n",
    "print('dev data shape: ', X_dev.shape)\n",
    "print('dev labels shape: ', y_dev.shape)"
   ]
  },
  {
   "cell_type": "markdown",
   "metadata": {},
   "source": [
    "## Softmax Classifier\n",
    "\n",
    "Your code for this section will all be written inside **cs231n/classifiers/softmax.py**. \n"
   ]
  },
  {
   "cell_type": "code",
   "execution_count": 36,
   "metadata": {},
   "outputs": [
    {
     "name": "stdout",
     "output_type": "stream",
     "text": [
      "loss: 2.341121\n",
      "sanity check: 2.302585\n"
     ]
    }
   ],
   "source": [
    "# First implement the naive softmax loss function with nested loops.\n",
    "# Open the file cs231n/classifiers/softmax.py and implement the\n",
    "# softmax_loss_naive function.\n",
    "\n",
    "from cs231n.classifiers.softmax import softmax_loss_naive\n",
    "import time\n",
    "\n",
    "# Generate a random softmax weight matrix and use it to compute the loss.\n",
    "W = np.random.randn(3073, 10) * 0.0001\n",
    "loss, grad = softmax_loss_naive(W, X_dev, y_dev, 0.0)\n",
    "\n",
    "# As a rough sanity check, our loss should be something close to -log(0.1).\n",
    "print('loss: %f' % loss)\n",
    "print('sanity check: %f' % (-np.log(0.1)))"
   ]
  },
  {
   "cell_type": "markdown",
   "metadata": {
    "tags": [
     "pdf-inline"
    ]
   },
   "source": [
    "**Inline Question 1**\n",
    "\n",
    "Why do we expect our loss to be close to -log(0.1)? Explain briefly.**\n",
    "\n",
    "$\\color{blue}{\\textit Your Answer:}$ *Random weights assume almost random(equal) class probability. There are 10 classes, then p_i &asymp; 1/10. L = -log(p_right_class), then most probably -log(0.1).* \n",
    "\n"
   ]
  },
  {
   "cell_type": "code",
   "execution_count": 38,
   "metadata": {},
   "outputs": [
    {
     "name": "stdout",
     "output_type": "stream",
     "text": [
      "numerical: 0.000118 analytic: 0.000118, relative error: 3.297215e-04\n",
      "numerical: 0.288364 analytic: 0.288364, relative error: 2.691758e-07\n",
      "numerical: 1.479571 analytic: 1.479571, relative error: 3.384736e-08\n",
      "numerical: 2.610512 analytic: 2.610512, relative error: 1.457913e-08\n",
      "numerical: -4.359610 analytic: -4.359610, relative error: 1.217289e-08\n",
      "numerical: -1.627368 analytic: -1.627368, relative error: 8.766335e-09\n",
      "numerical: -0.051214 analytic: -0.051214, relative error: 3.288024e-07\n",
      "numerical: -2.079510 analytic: -2.079510, relative error: 6.464740e-09\n",
      "numerical: 0.318417 analytic: 0.318417, relative error: 2.845020e-08\n",
      "numerical: 3.606697 analytic: 3.606697, relative error: 2.741845e-08\n",
      "numerical: -2.081776 analytic: -2.081776, relative error: 3.176012e-08\n",
      "numerical: -3.963311 analytic: -3.963311, relative error: 2.054579e-08\n",
      "numerical: 0.305481 analytic: 0.305481, relative error: 2.693938e-07\n",
      "numerical: 2.375447 analytic: 2.375447, relative error: 4.281008e-08\n",
      "numerical: -0.918916 analytic: -0.918916, relative error: 3.529009e-08\n",
      "numerical: -2.547669 analytic: -2.547670, relative error: 9.581533e-09\n",
      "numerical: -0.708952 analytic: -0.708952, relative error: 4.648540e-08\n",
      "numerical: -1.114590 analytic: -1.114590, relative error: 7.282332e-09\n",
      "numerical: -0.567799 analytic: -0.567799, relative error: 9.059176e-08\n",
      "numerical: -0.444871 analytic: -0.444871, relative error: 8.799048e-08\n"
     ]
    }
   ],
   "source": [
    "# Complete the implementation of softmax_loss_naive and implement a (naive)\n",
    "# version of the gradient that uses nested loops.\n",
    "loss, grad = softmax_loss_naive(W, X_dev, y_dev, 0.0)\n",
    "\n",
    "# As we did for the SVM, use numeric gradient checking as a debugging tool.\n",
    "# The numeric gradient should be close to the analytic gradient.\n",
    "from cs231n.gradient_check import grad_check_sparse\n",
    "f = lambda w: softmax_loss_naive(w, X_dev, y_dev, 0.0)[0]\n",
    "grad_numerical = grad_check_sparse(f, W, grad, 10)\n",
    "\n",
    "# similar to SVM case, do another gradient check with regularization\n",
    "loss, grad = softmax_loss_naive(W, X_dev, y_dev, 5e1)\n",
    "f = lambda w: softmax_loss_naive(w, X_dev, y_dev, 5e1)[0]\n",
    "grad_numerical = grad_check_sparse(f, W, grad, 10)"
   ]
  },
  {
   "cell_type": "code",
   "execution_count": 52,
   "metadata": {},
   "outputs": [
    {
     "name": "stdout",
     "output_type": "stream",
     "text": [
      "naive loss: 2.341121e+00 computed in 0.158577s\n",
      "vectorized loss: 2.341121e+00 computed in 0.007984s\n",
      "Loss difference: 0.000000\n",
      "Gradient difference: 0.000000\n"
     ]
    }
   ],
   "source": [
    "# Now that we have a naive implementation of the softmax loss function and its gradient,\n",
    "# implement a vectorized version in softmax_loss_vectorized.\n",
    "# The two versions should compute the same results, but the vectorized version should be\n",
    "# much faster.\n",
    "tic = time.time()\n",
    "loss_naive, grad_naive = softmax_loss_naive(W, X_dev, y_dev, 0.000005)\n",
    "toc = time.time()\n",
    "print('naive loss: %e computed in %fs' % (loss_naive, toc - tic))\n",
    "\n",
    "from cs231n.classifiers.softmax import softmax_loss_vectorized\n",
    "tic = time.time()\n",
    "loss_vectorized, grad_vectorized = softmax_loss_vectorized(W, X_dev, y_dev, 0.000005)\n",
    "toc = time.time()\n",
    "print('vectorized loss: %e computed in %fs' % (loss_vectorized, toc - tic))\n",
    "\n",
    "# As we did for the SVM, we use the Frobenius norm to compare the two versions\n",
    "# of the gradient.\n",
    "grad_difference = np.linalg.norm(grad_naive - grad_vectorized, ord='fro')\n",
    "print('Loss difference: %f' % np.abs(loss_naive - loss_vectorized))\n",
    "print('Gradient difference: %f' % grad_difference)"
   ]
  },
  {
   "cell_type": "code",
   "execution_count": 53,
   "metadata": {
    "tags": [
     "code"
    ]
   },
   "outputs": [
    {
     "name": "stdout",
     "output_type": "stream",
     "text": [
      "lr 1.000000e-07 reg 5.000000e+03 train accuracy: 0.330469 val accuracy: 0.334000\n",
      "lr 1.000000e-07 reg 6.666667e+03 train accuracy: 0.349878 val accuracy: 0.354000\n",
      "lr 1.000000e-07 reg 8.333333e+03 train accuracy: 0.350224 val accuracy: 0.367000\n",
      "lr 1.000000e-07 reg 1.000000e+04 train accuracy: 0.351551 val accuracy: 0.360000\n",
      "lr 1.000000e-07 reg 1.166667e+04 train accuracy: 0.348816 val accuracy: 0.369000\n",
      "lr 1.000000e-07 reg 1.333333e+04 train accuracy: 0.348082 val accuracy: 0.355000\n",
      "lr 1.000000e-07 reg 1.500000e+04 train accuracy: 0.344408 val accuracy: 0.356000\n",
      "lr 1.000000e-07 reg 1.666667e+04 train accuracy: 0.344510 val accuracy: 0.356000\n",
      "lr 1.000000e-07 reg 1.833333e+04 train accuracy: 0.341347 val accuracy: 0.350000\n",
      "lr 1.000000e-07 reg 2.000000e+04 train accuracy: 0.337551 val accuracy: 0.354000\n",
      "lr 1.166667e-07 reg 5.000000e+03 train accuracy: 0.345265 val accuracy: 0.345000\n",
      "lr 1.166667e-07 reg 6.666667e+03 train accuracy: 0.359306 val accuracy: 0.367000\n",
      "lr 1.166667e-07 reg 8.333333e+03 train accuracy: 0.357796 val accuracy: 0.368000\n",
      "lr 1.166667e-07 reg 1.000000e+04 train accuracy: 0.356592 val accuracy: 0.380000\n",
      "lr 1.166667e-07 reg 1.166667e+04 train accuracy: 0.352367 val accuracy: 0.353000\n",
      "lr 1.166667e-07 reg 1.333333e+04 train accuracy: 0.347388 val accuracy: 0.365000\n",
      "lr 1.166667e-07 reg 1.500000e+04 train accuracy: 0.342122 val accuracy: 0.358000\n",
      "lr 1.166667e-07 reg 1.666667e+04 train accuracy: 0.343592 val accuracy: 0.352000\n",
      "lr 1.166667e-07 reg 1.833333e+04 train accuracy: 0.335714 val accuracy: 0.348000\n",
      "lr 1.166667e-07 reg 2.000000e+04 train accuracy: 0.337306 val accuracy: 0.358000\n",
      "lr 1.333333e-07 reg 5.000000e+03 train accuracy: 0.356429 val accuracy: 0.372000\n",
      "lr 1.333333e-07 reg 6.666667e+03 train accuracy: 0.359898 val accuracy: 0.373000\n",
      "lr 1.333333e-07 reg 8.333333e+03 train accuracy: 0.359469 val accuracy: 0.374000\n",
      "lr 1.333333e-07 reg 1.000000e+04 train accuracy: 0.356184 val accuracy: 0.367000\n",
      "lr 1.333333e-07 reg 1.166667e+04 train accuracy: 0.350939 val accuracy: 0.363000\n",
      "lr 1.333333e-07 reg 1.333333e+04 train accuracy: 0.350898 val accuracy: 0.364000\n",
      "lr 1.333333e-07 reg 1.500000e+04 train accuracy: 0.347184 val accuracy: 0.360000\n",
      "lr 1.333333e-07 reg 1.666667e+04 train accuracy: 0.343020 val accuracy: 0.364000\n",
      "lr 1.333333e-07 reg 1.833333e+04 train accuracy: 0.339041 val accuracy: 0.362000\n",
      "lr 1.333333e-07 reg 2.000000e+04 train accuracy: 0.330490 val accuracy: 0.343000\n",
      "lr 1.500000e-07 reg 5.000000e+03 train accuracy: 0.366449 val accuracy: 0.374000\n",
      "lr 1.500000e-07 reg 6.666667e+03 train accuracy: 0.363980 val accuracy: 0.379000\n",
      "lr 1.500000e-07 reg 8.333333e+03 train accuracy: 0.360653 val accuracy: 0.374000\n",
      "lr 1.500000e-07 reg 1.000000e+04 train accuracy: 0.354918 val accuracy: 0.367000\n",
      "lr 1.500000e-07 reg 1.166667e+04 train accuracy: 0.351673 val accuracy: 0.370000\n",
      "lr 1.500000e-07 reg 1.333333e+04 train accuracy: 0.349286 val accuracy: 0.367000\n",
      "lr 1.500000e-07 reg 1.500000e+04 train accuracy: 0.341041 val accuracy: 0.359000\n",
      "lr 1.500000e-07 reg 1.666667e+04 train accuracy: 0.345776 val accuracy: 0.352000\n",
      "lr 1.500000e-07 reg 1.833333e+04 train accuracy: 0.332449 val accuracy: 0.349000\n",
      "lr 1.500000e-07 reg 2.000000e+04 train accuracy: 0.335878 val accuracy: 0.351000\n",
      "lr 1.666667e-07 reg 5.000000e+03 train accuracy: 0.369612 val accuracy: 0.381000\n",
      "lr 1.666667e-07 reg 6.666667e+03 train accuracy: 0.364245 val accuracy: 0.378000\n",
      "lr 1.666667e-07 reg 8.333333e+03 train accuracy: 0.358959 val accuracy: 0.372000\n",
      "lr 1.666667e-07 reg 1.000000e+04 train accuracy: 0.357531 val accuracy: 0.369000\n",
      "lr 1.666667e-07 reg 1.166667e+04 train accuracy: 0.350408 val accuracy: 0.368000\n",
      "lr 1.666667e-07 reg 1.333333e+04 train accuracy: 0.347776 val accuracy: 0.358000\n",
      "lr 1.666667e-07 reg 1.500000e+04 train accuracy: 0.344612 val accuracy: 0.358000\n",
      "lr 1.666667e-07 reg 1.666667e+04 train accuracy: 0.340347 val accuracy: 0.348000\n",
      "lr 1.666667e-07 reg 1.833333e+04 train accuracy: 0.335878 val accuracy: 0.359000\n",
      "lr 1.666667e-07 reg 2.000000e+04 train accuracy: 0.333020 val accuracy: 0.347000\n",
      "lr 1.833333e-07 reg 5.000000e+03 train accuracy: 0.369551 val accuracy: 0.377000\n",
      "lr 1.833333e-07 reg 6.666667e+03 train accuracy: 0.366490 val accuracy: 0.381000\n",
      "lr 1.833333e-07 reg 8.333333e+03 train accuracy: 0.358163 val accuracy: 0.376000\n",
      "lr 1.833333e-07 reg 1.000000e+04 train accuracy: 0.351429 val accuracy: 0.364000\n",
      "lr 1.833333e-07 reg 1.166667e+04 train accuracy: 0.353673 val accuracy: 0.374000\n",
      "lr 1.833333e-07 reg 1.333333e+04 train accuracy: 0.348918 val accuracy: 0.363000\n",
      "lr 1.833333e-07 reg 1.500000e+04 train accuracy: 0.347714 val accuracy: 0.357000\n",
      "lr 1.833333e-07 reg 1.666667e+04 train accuracy: 0.344837 val accuracy: 0.353000\n",
      "lr 1.833333e-07 reg 1.833333e+04 train accuracy: 0.340776 val accuracy: 0.355000\n",
      "lr 1.833333e-07 reg 2.000000e+04 train accuracy: 0.337939 val accuracy: 0.343000\n",
      "lr 2.000000e-07 reg 5.000000e+03 train accuracy: 0.374796 val accuracy: 0.386000\n",
      "lr 2.000000e-07 reg 6.666667e+03 train accuracy: 0.367714 val accuracy: 0.383000\n",
      "lr 2.000000e-07 reg 8.333333e+03 train accuracy: 0.361184 val accuracy: 0.385000\n",
      "lr 2.000000e-07 reg 1.000000e+04 train accuracy: 0.359204 val accuracy: 0.376000\n",
      "lr 2.000000e-07 reg 1.166667e+04 train accuracy: 0.351327 val accuracy: 0.361000\n",
      "lr 2.000000e-07 reg 1.333333e+04 train accuracy: 0.351224 val accuracy: 0.369000\n",
      "lr 2.000000e-07 reg 1.500000e+04 train accuracy: 0.341837 val accuracy: 0.358000\n",
      "lr 2.000000e-07 reg 1.666667e+04 train accuracy: 0.336959 val accuracy: 0.355000\n",
      "lr 2.000000e-07 reg 1.833333e+04 train accuracy: 0.342878 val accuracy: 0.361000\n",
      "lr 2.000000e-07 reg 2.000000e+04 train accuracy: 0.335633 val accuracy: 0.353000\n",
      "lr 2.166667e-07 reg 5.000000e+03 train accuracy: 0.373776 val accuracy: 0.382000\n",
      "lr 2.166667e-07 reg 6.666667e+03 train accuracy: 0.365429 val accuracy: 0.375000\n",
      "lr 2.166667e-07 reg 8.333333e+03 train accuracy: 0.357245 val accuracy: 0.371000\n",
      "lr 2.166667e-07 reg 1.000000e+04 train accuracy: 0.351735 val accuracy: 0.361000\n",
      "lr 2.166667e-07 reg 1.166667e+04 train accuracy: 0.347265 val accuracy: 0.360000\n",
      "lr 2.166667e-07 reg 1.333333e+04 train accuracy: 0.354755 val accuracy: 0.370000\n",
      "lr 2.166667e-07 reg 1.500000e+04 train accuracy: 0.344408 val accuracy: 0.354000\n",
      "lr 2.166667e-07 reg 1.666667e+04 train accuracy: 0.343980 val accuracy: 0.357000\n",
      "lr 2.166667e-07 reg 1.833333e+04 train accuracy: 0.337816 val accuracy: 0.350000\n",
      "lr 2.166667e-07 reg 2.000000e+04 train accuracy: 0.341837 val accuracy: 0.351000\n",
      "lr 2.333333e-07 reg 5.000000e+03 train accuracy: 0.371469 val accuracy: 0.378000\n",
      "lr 2.333333e-07 reg 6.666667e+03 train accuracy: 0.366816 val accuracy: 0.385000\n",
      "lr 2.333333e-07 reg 8.333333e+03 train accuracy: 0.360673 val accuracy: 0.371000\n",
      "lr 2.333333e-07 reg 1.000000e+04 train accuracy: 0.352306 val accuracy: 0.364000\n",
      "lr 2.333333e-07 reg 1.166667e+04 train accuracy: 0.352939 val accuracy: 0.370000\n",
      "lr 2.333333e-07 reg 1.333333e+04 train accuracy: 0.352184 val accuracy: 0.366000\n",
      "lr 2.333333e-07 reg 1.500000e+04 train accuracy: 0.336082 val accuracy: 0.346000\n",
      "lr 2.333333e-07 reg 1.666667e+04 train accuracy: 0.338490 val accuracy: 0.355000\n",
      "lr 2.333333e-07 reg 1.833333e+04 train accuracy: 0.339204 val accuracy: 0.351000\n",
      "lr 2.333333e-07 reg 2.000000e+04 train accuracy: 0.330673 val accuracy: 0.348000\n",
      "lr 2.500000e-07 reg 5.000000e+03 train accuracy: 0.374571 val accuracy: 0.390000\n",
      "lr 2.500000e-07 reg 6.666667e+03 train accuracy: 0.365000 val accuracy: 0.382000\n",
      "lr 2.500000e-07 reg 8.333333e+03 train accuracy: 0.357939 val accuracy: 0.368000\n",
      "lr 2.500000e-07 reg 1.000000e+04 train accuracy: 0.351306 val accuracy: 0.363000\n",
      "lr 2.500000e-07 reg 1.166667e+04 train accuracy: 0.351796 val accuracy: 0.367000\n",
      "lr 2.500000e-07 reg 1.333333e+04 train accuracy: 0.346918 val accuracy: 0.368000\n",
      "lr 2.500000e-07 reg 1.500000e+04 train accuracy: 0.345245 val accuracy: 0.353000\n",
      "lr 2.500000e-07 reg 1.666667e+04 train accuracy: 0.343449 val accuracy: 0.357000\n",
      "lr 2.500000e-07 reg 1.833333e+04 train accuracy: 0.332265 val accuracy: 0.342000\n",
      "lr 2.500000e-07 reg 2.000000e+04 train accuracy: 0.336755 val accuracy: 0.353000\n",
      "best validation accuracy achieved during cross-validation: 0.390000\n"
     ]
    }
   ],
   "source": [
    "# Use the validation set to tune hyperparameters (regularization strength and\n",
    "# learning rate). You should experiment with different ranges for the learning\n",
    "# rates and regularization strengths; if you are careful you should be able to\n",
    "# get a classification accuracy of over 0.35 on the validation set.\n",
    "from cs231n.classifiers import Softmax\n",
    "results = {}\n",
    "best_val = -1\n",
    "best_softmax = None\n",
    "learning_rates = np.linspace(1e-7, 2.5e-7, 10)\n",
    "regularization_strengths = np.linspace(0.5e4, 2e4, 10)\n",
    "\n",
    "################################################################################\n",
    "# TODO:                                                                        #\n",
    "# Use the validation set to set the learning rate and regularization strength. #\n",
    "# This should be identical to the validation that you did for the SVM; save    #\n",
    "# the best trained softmax classifer in best_softmax.                          #\n",
    "################################################################################\n",
    "# *****START OF YOUR CODE (DO NOT DELETE/MODIFY THIS LINE)*****\n",
    "\n",
    "for lr in learning_rates:\n",
    "    for reg in regularization_strengths:\n",
    "        clf = Softmax()\n",
    "        _ = clf.train(X_train, y_train, learning_rate = lr, reg = reg, num_iters = 1500, verbose = False)\n",
    "        train_acc = np.mean(clf.predict(X_train)==y_train)\n",
    "        val_acc = np.mean(clf.predict(X_val)==y_val)\n",
    "        results[(lr,reg)]= (train_acc, val_acc)\n",
    "        if val_acc > best_val:\n",
    "            best_val = val_acc\n",
    "            best_softmax = clf\n",
    "\n",
    "# *****END OF YOUR CODE (DO NOT DELETE/MODIFY THIS LINE)*****\n",
    "    \n",
    "# Print out results.\n",
    "for lr, reg in sorted(results):\n",
    "    train_accuracy, val_accuracy = results[(lr, reg)]\n",
    "    print('lr %e reg %e train accuracy: %f val accuracy: %f' % (\n",
    "                lr, reg, train_accuracy, val_accuracy))\n",
    "    \n",
    "print('best validation accuracy achieved during cross-validation: %f' % best_val)"
   ]
  },
  {
   "cell_type": "code",
   "execution_count": 56,
   "metadata": {},
   "outputs": [
    {
     "name": "stdout",
     "output_type": "stream",
     "text": [
      "softmax on raw pixels final test set accuracy: 0.373000\n"
     ]
    }
   ],
   "source": [
    "# evaluate on test set\n",
    "# Evaluate the best softmax on test set\n",
    "y_test_pred = best_softmax.predict(X_test)\n",
    "test_accuracy = np.mean(y_test == y_test_pred)\n",
    "print('softmax on raw pixels final test set accuracy: %f' % (test_accuracy, ))"
   ]
  },
  {
   "cell_type": "markdown",
   "metadata": {
    "tags": [
     "pdf-inline"
    ]
   },
   "source": [
    "**Inline Question 2** - *True or False*\n",
    "\n",
    "Suppose the overall training loss is defined as the sum of the per-datapoint loss over all training examples. It is possible to add a new datapoint to a training set that would leave the SVM loss unchanged, but this is not the case with the Softmax classifier loss.\n",
    "\n",
    "$\\color{blue}{\\textit Your Answer:}$ *Yes*\n",
    "\n",
    "\n",
    "$\\color{blue}{\\textit Your Explanation:}$ *If we add a trining example which is classified correctly by SVM with a score greater then for other clases for more then delta, then SVM loss won't change. But Softmax loss function will change, as it always positive.*\n",
    "\n"
   ]
  },
  {
   "cell_type": "code",
   "execution_count": 57,
   "metadata": {},
   "outputs": [
    {
     "data": {
      "image/png": "[encoded data removed]",
      "text/plain": [
       "<Figure size 432x288 with 10 Axes>"
      ]
     },
     "metadata": {
      "needs_background": "light"
     },
     "output_type": "display_data"
    }
   ],
   "source": [
    "# Visualize the learned weights for each class\n",
    "w = best_softmax.W[:-1,:] # strip out the bias\n",
    "w = w.reshape(32, 32, 3, 10)\n",
    "\n",
    "w_min, w_max = np.min(w), np.max(w)\n",
    "\n",
    "classes = ['plane', 'car', 'bird', 'cat', 'deer', 'dog', 'frog', 'horse', 'ship', 'truck']\n",
    "for i in range(10):\n",
    "    plt.subplot(2, 5, i + 1)\n",
    "    \n",
    "    # Rescale the weights to be between 0 and 255\n",
    "    wimg = 255.0 * (w[:, :, :, i].squeeze() - w_min) / (w_max - w_min)\n",
    "    plt.imshow(wimg.astype('uint8'))\n",
    "    plt.axis('off')\n",
    "    plt.title(classes[i])"
   ]
  }
 ],
 "metadata": {
  "kernelspec": {
   "display_name": "Python 3",
   "language": "python",
   "name": "python3"
  },
  "language_info": {
   "codemirror_mode": {
    "name": "ipython",
    "version": 3
   },
   "file_extension": ".py",
   "mimetype": "text/x-python",
   "name": "python",
   "nbconvert_exporter": "python",
   "pygments_lexer": "ipython3",
   "version": "3.7.3"
  }
 },
 "nbformat": 4,
 "nbformat_minor": 1
}
